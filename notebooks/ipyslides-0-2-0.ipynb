{
 "cells": [
  {
   "cell_type": "code",
   "execution_count": 8,
   "source": [
    "import ipyslides as isd \r\n",
    "import ipywidgets as ipw"
   ],
   "outputs": [],
   "metadata": {}
  },
  {
   "cell_type": "code",
   "execution_count": 9,
   "source": [
    "from IPython.display import display, Markdown, HTML, Latex, YouTubeVideo\r\n",
    "from ipyslides import load_magics, convert2slides, write_title\r\n",
    "from ipyslides.utils import write,plt2html,print_context\r\n",
    "\r\n",
    "# Command below registers all the ipyslides magics that are used in this file\r\n",
    "load_magics()\r\n",
    "# Set this to True for Slides output\r\n",
    "convert2slides(True) #Set this to True for Slides output\r\n",
    "\r\n",
    "\r\n",
    "write_title(\"<div style='width:10px;height:100%;background:red;'></div>\",\r\n",
    "\"\"\"# Interactive Slides  \r\n",
    "<em> Author: Abdul Saboor</em>\r\n",
    "\r\n",
    "- Edit and test cells in `convert2slides(False)` mode.\r\n",
    "- Run cells in `convert2slides(True)` mode from top to bottom. \r\n",
    "- `%%slide integer` on cell top auto picks slide or you can use `ipysildes.insert(slide_number)`\r\n",
    "- ipyslides.insert_after(slide_number,*objs) generates slides dynamically handled by function `display_item`.\r\n",
    "\r\n",
    "```python\r\n",
    "import ipyslides as isd \r\n",
    "isd.initilize() #This will create a title page and parameters in same cell\r\n",
    "isd.write_title() #create a rich content multicols title page.\r\n",
    "isd.insert(1) #This will create a slide in same cell where you run it \r\n",
    "isd.insert_after(1,*objs) #This will create as many slides after the slide number 1 as length(objs)\r\n",
    "isd.build() #This will build the presentation cell. After this go top and set `convert2slides(True)` and run all below.\r\n",
    "```\r\n",
    "\r\n",
    "> Restart Kernel if you make mistake in slide numbers to avoid hidden state problem.\r\n",
    "> For JupyterLab >=3, do `pip install sidecar`. \r\n",
    "\"\"\",width_percents = [5,95])\r\n"
   ],
   "outputs": [],
   "metadata": {}
  },
  {
   "cell_type": "code",
   "execution_count": 10,
   "source": [
    "%%slide 1\r\n",
    "import numpy as np, matplotlib.pyplot as plt\r\n",
    "x = np.linspace(0,2*np.pi)\r\n",
    "with plt.style.context('ggplot'):\r\n",
    "    fig, ax = plt.subplots(figsize=(3.4,2.6))\r\n",
    "    _ = ax.plot(x,np.cos(x))\r\n",
    "write('## Plotting and displaying code')\r\n",
    "write(plt2html(),isd.get_cell_code())"
   ],
   "outputs": [],
   "metadata": {}
  },
  {
   "cell_type": "code",
   "execution_count": 11,
   "source": [
    "mc = isd.MultiCols()\r\n",
    "with mc.header:\r\n",
    "    write('### Listening Somthing?')\r\n",
    "    display(HTML('<iframe width=\"600px\" height=\"166\" scrolling=\"no\" frameborder=\"no\" allow=\"autoplay\" src=\"https://w.soundcloud.com/player/?url=https%3A//api.soundcloud.com/tracks/198928615&color=%23ff5500&auto_play=false&hide_related=false&show_comments=true&show_user=true&show_reposts=false&show_teaser=true\"></iframe><div style=\"font-size: 10px; color: #cccccc;line-break: anywhere;word-break: normal;overflow: hidden;white-space: nowrap;text-overflow: ellipsis; font-family: Interstate,Lucida Grande,Lucida Sans Unicode,Lucida Sans,Garuda,Verdana,Tahoma,sans-serif;font-weight: 100;\"><a href=\"https://soundcloud.com/nocopyrightsounds\" title=\"NCS\" target=\"_blank\" style=\"color: #cccccc; text-decoration: none;\">NCS</a> · <a href=\"https://soundcloud.com/nocopyrightsounds/alan-walker-force-ncs-release\" title=\"Alan Walker - Force [NCS Release]\" target=\"_blank\" style=\"color: #cccccc; text-decoration: none;\">Alan Walker - Force [NCS Release]</a></div>'))\r\n",
    "with mc.footer:\r\n",
    "    write(isd.get_cell_code())\r\n",
    "with mc.c1:\r\n",
    "    write('### Embedding Tweets')\r\n",
    "    display(HTML('<blockquote class=\"twitter-tweet\"><p lang=\"und\" dir=\"ltr\"><a href=\"https://twitter.com/hashtag/pivotpy?src=hash&amp;ref_src=twsrc%5Etfw\">#pivotpy</a> <a href=\"https://twitter.com/hashtag/DFT?src=hash&amp;ref_src=twsrc%5Etfw\">#DFT</a> <a href=\"https://t.co/JNApUy6xSJ\">https://t.co/JNApUy6xSJ</a> <a href=\"https://t.co/Q6okNiKI3W\">pic.twitter.com/Q6okNiKI3W</a></p>&mdash; Abdul Saboor عبدالصبور (@mass_asaboor) <a href=\"https://twitter.com/mass_asaboor/status/1268227838106390529?ref_src=twsrc%5Etfw\">June 3, 2020</a></blockquote> <script async src=\"https://platform.twitter.com/widgets.js\" charset=\"utf-8\"></script>'))\r\n",
    "with mc.c2:\r\n",
    "    write('### Watching Youtube Video?')\r\n",
    "    display(YouTubeVideo('Z3iR551KgpI',width='400px',height='266px'))\r\n",
    "\r\n",
    "isd.insert_after(3, mc,*range(20)) # I have modifies `display_item` to handle int, see below"
   ],
   "outputs": [],
   "metadata": {}
  },
  {
   "cell_type": "code",
   "execution_count": 12,
   "source": [
    "%%slide 2\r\n",
    "import pandas as pd \r\n",
    "df = pd.read_csv('https://raw.githubusercontent.com/mwaskom/seaborn-data/master/iris.csv')\r\n",
    "write('''## Data Tables\r\n",
    "|h1|h2|h3|\r\n",
    "|---|---|---|\r\n",
    "|d1|d2|d3|\r\n",
    "|r1|r2|r3|\r\n",
    "''',isd.get_cell_code())\r\n",
    "write(f'## Pandas DataFrame of Iris Dataset\\n{df.to_html()}')"
   ],
   "outputs": [],
   "metadata": {}
  },
  {
   "cell_type": "code",
   "execution_count": 13,
   "source": [
    "%%slide 3\r\n",
    "write('## All IPython widgets support\\n`ipywidgets`, `bqplot`,`ipyvolume` , `plotly Figurewidget` etc.')\r\n",
    "display(ipw.IntSlider(),ipw.IntProgress(value=50),ipw.Button(description='Click Me, I do nothing'))"
   ],
   "outputs": [],
   "metadata": {}
  },
  {
   "cell_type": "code",
   "execution_count": 14,
   "source": [
    "import numpy as np, matplotlib.pyplot as plt\r\n",
    "# Only this cell should show output. For JupyterLab >=3, pip install sidecar\r\n",
    "# ------ Slides End Here -------- \r\n",
    "\r\n",
    "from ipyslides.core import collect_slides, LiveSlides\r\n",
    "\r\n",
    "slides_iterable = collect_slides() #Get all slides content in order\r\n",
    "\r\n",
    "# Edit this function to act on all dynmaically generated slides\r\n",
    "def display_item(item):\r\n",
    "    if isinstance(item,(str,dict,list,tuple,float)):\r\n",
    "        write(f'### Given {type(item)}: {item}')\r\n",
    "    if isinstance(item,int):\r\n",
    "        fig, ax = plt.subplots()\r\n",
    "        x = np.linspace(0,item+1,50+10*item)\r\n",
    "        ax.plot(x,np.sin(x));\r\n",
    "        ax.set_title(f'$f(x)=\\sin(x)$, 0 < x < {item+1}')\r\n",
    "        ax.set_axis_off()\r\n",
    "        write(f'### This is Slide {item+5}\\n and we are plotting dynamically',plt2html(),width_percents=[30,70])\r\n",
    "    else:\r\n",
    "        display(item) # You will get idea what is it and modify this function to handle it.\r\n",
    "    \r\n",
    "ls = LiveSlides(func=display_item,iterable=slides_iterable)\r\n",
    "ls.set_footer('Autho: Abdul Saboor')\r\n",
    "ls.setting.theme_dd.value = 'Light'\r\n",
    "ls.box.layout.width = '90vw'\r\n",
    "ls.align8center(False)\r\n",
    "ls.show()"
   ],
   "outputs": [
    {
     "output_type": "execute_result",
     "data": {
      "text/plain": [
       "VBox(children=(HTML(value='<style>\\n            .SlidesWrapper .textfonts { align-items: center;}\\n           …"
      ],
      "application/vnd.jupyter.widget-view+json": {
       "version_major": 2,
       "version_minor": 0,
       "model_id": "78149c187d874e6e851a96c80c0009c7"
      }
     },
     "metadata": {},
     "execution_count": 14
    }
   ],
   "metadata": {}
  },
  {
   "cell_type": "code",
   "execution_count": null,
   "source": [],
   "outputs": [],
   "metadata": {}
  },
  {
   "cell_type": "code",
   "execution_count": null,
   "source": [],
   "outputs": [],
   "metadata": {}
  }
 ],
 "metadata": {
  "interpreter": {
   "hash": "23af958078165d7e427e51220d8520c57e31b15b35906dd75cc96812597c3524"
  },
  "kernelspec": {
   "name": "python3",
   "display_name": "Python 3.7.6 64-bit"
  },
  "language_info": {
   "codemirror_mode": {
    "name": "ipython",
    "version": 3
   },
   "file_extension": ".py",
   "mimetype": "text/x-python",
   "name": "python",
   "nbconvert_exporter": "python",
   "pygments_lexer": "ipython3",
   "version": "3.7.6"
  }
 },
 "nbformat": 4,
 "nbformat_minor": 4
}