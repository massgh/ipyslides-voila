{
 "cells": [
  {
   "cell_type": "code",
   "execution_count": 1,
   "source": [
    "import ipyslides as isd "
   ],
   "outputs": [],
   "metadata": {
    "execution": {
     "iopub.execute_input": "2021-08-11T15:22:16.400380Z",
     "iopub.status.busy": "2021-08-11T15:22:16.399924Z",
     "iopub.status.idle": "2021-08-11T15:22:16.923508Z",
     "shell.execute_reply": "2021-08-11T15:22:16.922532Z",
     "shell.execute_reply.started": "2021-08-11T15:22:16.400338Z"
    }
   }
  },
  {
   "cell_type": "code",
   "execution_count": 2,
   "source": [
    "from IPython.display import display, Markdown, Latex\r\n",
    "from ipyslides import load_magics, convert2slides, write_title\r\n",
    "from ipyslides.utils import write,plt2html,print_context\r\n",
    "\r\n",
    "# Command below registers all the ipyslides magics that are used in this file\r\n",
    "load_magics()\r\n",
    "# Set this to True for Slides output\r\n",
    "convert2slides(True) #Set this to True for Slides output\r\n",
    "\r\n",
    "\r\n",
    "write_title(\"<div style='width:10px;height:100%;background:red;'></div>\",\r\n",
    "\"\"\"# Interactive Slides  \r\n",
    "<em> Author: Abdul Saboor</em>\r\n",
    "\r\n",
    "- Edit and test cells in `convert2slides(False)` mode.\r\n",
    "- Run cells in `convert2slides(True)` mode from top to bottom. \r\n",
    "- `%%slide integer` on cell top auto picks slide or you can use `ipysildes.insert(slide_number)`\r\n",
    "- ipyslides.insert_after(slide_number,*objs) generates slides dynamically handled by function `display_item`.\r\n",
    "\r\n",
    "```python\r\n",
    "import ipyslides as isd \r\n",
    "isd.initilize() #This will create a title page and parameters in same cell\r\n",
    "isd.write_title() #create a rich content multicols title page.\r\n",
    "isd.insert(1) #This will create a slide in same cell where you run it \r\n",
    "isd.insert_after(1,*objs) #This will create as many slides after the slide number 1 as length(objs)\r\n",
    "isd.build() #This will build the presentation cell. After this go top and set `convert2slides(True)` and run all below.\r\n",
    "```\r\n",
    "\r\n",
    "> Restart Kernel if you make mistake in slide numbers to avoid hidden state problem.\r\n",
    "> For JupyterLab >=3, do `pip install sidecar`. \r\n",
    "\"\"\",width_percents = [5,95])\r\n"
   ],
   "outputs": [],
   "metadata": {
    "execution": {
     "iopub.execute_input": "2021-08-11T15:22:17.175789Z",
     "iopub.status.busy": "2021-08-11T15:22:17.175377Z",
     "iopub.status.idle": "2021-08-11T15:22:17.183042Z",
     "shell.execute_reply": "2021-08-11T15:22:17.181912Z",
     "shell.execute_reply.started": "2021-08-11T15:22:17.175753Z"
    }
   }
  },
  {
   "cell_type": "code",
   "execution_count": 3,
   "source": [
    "%%slide 1\r\n",
    "import numpy as np, matplotlib.pyplot as plt\r\n",
    "x = np.linspace(0,2*np.pi)\r\n",
    "with plt.style.context('ggplot'):\r\n",
    "    fig, ax = plt.subplots(figsize=(3.4,2.6))\r\n",
    "    _ = ax.plot(x,np.cos(x))\r\n",
    "write('## Plotting and displaying code')\r\n",
    "write(plt2html(),isd.get_cell_code())"
   ],
   "outputs": [],
   "metadata": {
    "execution": {
     "iopub.execute_input": "2021-08-11T15:22:17.807747Z",
     "iopub.status.busy": "2021-08-11T15:22:17.807335Z",
     "iopub.status.idle": "2021-08-11T15:22:18.076474Z",
     "shell.execute_reply": "2021-08-11T15:22:18.075220Z",
     "shell.execute_reply.started": "2021-08-11T15:22:17.807716Z"
    }
   }
  },
  {
   "cell_type": "code",
   "execution_count": 4,
   "source": [
    "from IPython.display import Audio \r\n",
    "import numpy as np\r\n",
    "from ipywidgets import interactive\r\n",
    "def beat_freq(f1=220.0, f2=224.0):\r\n",
    "    max_time = 3\r\n",
    "    rate = 8000\r\n",
    "    times = np.linspace(0,max_time,rate*max_time)\r\n",
    "    signal = np.sin(2*np.pi*f1*times) + np.sin(2*np.pi*f2*times)\r\n",
    "    display(Audio(data=signal, rate=rate))\r\n",
    "    return signal\r\n",
    "v = interactive(beat_freq, f1=(200.0,300.0), f2=(200.0,300.0))\r\n",
    "\r\n",
    "mc2 = isd.MultiCols()\r\n",
    "with mc2.header:\r\n",
    "    write('## Audio Input')\r\n",
    "with mc2.c1:\r\n",
    "    display(v)\r\n",
    "with mc2.c2:\r\n",
    "    write(isd.get_cell_code())\r\n",
    "    \r\n",
    "isd.insert_after(1,mc2)"
   ],
   "outputs": [],
   "metadata": {}
  },
  {
   "cell_type": "code",
   "execution_count": 5,
   "source": [
    "%%slide 2 \n",
    "from IPython.display import YouTubeVideo\n",
    "display(YouTubeVideo('Z3iR551KgpI'))\n",
    "write(isd.get_cell_code())"
   ],
   "outputs": [],
   "metadata": {}
  },
  {
   "cell_type": "code",
   "execution_count": 6,
   "source": [
    "mc = isd.MultiCols()\r\n",
    "with mc.header:\r\n",
    "    write('## Header')\r\n",
    "with mc.footer:\r\n",
    "    write('## Footer')\r\n",
    "with mc.c1:\r\n",
    "    write('Oh this is column 1')\r\n",
    "with mc.c2:\r\n",
    "    write('Yes this is column 2')\r\n",
    "\r\n",
    "isd.insert_after(2, mc,*range(20)) # I have modifies `display_item` to handle int, see below"
   ],
   "outputs": [],
   "metadata": {
    "execution": {
     "iopub.execute_input": "2021-08-11T15:22:19.567799Z",
     "iopub.status.busy": "2021-08-11T15:22:19.567333Z",
     "iopub.status.idle": "2021-08-11T15:22:19.654991Z",
     "shell.execute_reply": "2021-08-11T15:22:19.653945Z",
     "shell.execute_reply.started": "2021-08-11T15:22:19.567756Z"
    }
   }
  },
  {
   "cell_type": "code",
   "execution_count": 7,
   "source": [
    "import numpy as np, matplotlib.pyplot as plt\r\n",
    "# Only this cell should show output. For JupyterLab >=3, pip install sidecar\r\n",
    "# ------ Slides End Here -------- \r\n",
    "\r\n",
    "from ipyslides.core import collect_slides, LiveSlides\r\n",
    "\r\n",
    "slides_iterable = collect_slides() #Get all slides content in order\r\n",
    "\r\n",
    "# Edit this function to act on all dynmaically generated slides\r\n",
    "def display_item(item):\r\n",
    "    if isinstance(item,(str,dict,list,tuple,float)):\r\n",
    "        write(f'### Given {type(item)}: {item}')\r\n",
    "    if isinstance(item,int):\r\n",
    "        fig, ax = plt.subplots()\r\n",
    "        x = np.linspace(0,item+1,50+10*item)\r\n",
    "        ax.plot(x,np.sin(x));\r\n",
    "        ax.set_axis_off()\r\n",
    "        write(f'### This is Slide {item+3}\\n and we are plotting\\n $$f(x)=\\sin(x)$$',plt2html())\r\n",
    "    else:\r\n",
    "        display(item) # You will get idea what is it and modify this function to handle it.\r\n",
    "    \r\n",
    "ls = LiveSlides(func=display_item,iterable=slides_iterable,accent_color='olive')\r\n",
    "ls.set_footer('Autho: Abdul Saboor')\r\n",
    "ls.setting.theme_dd.value = 'Light'\r\n",
    "ls.box.layout.width = '90vw'\r\n",
    "ls.show()"
   ],
   "outputs": [
    {
     "output_type": "display_data",
     "data": {
      "text/plain": [
       "VBox(children=(HTML(value='<style>\\n            .SlidesWrapper .textfonts { align-items: center;}\\n           …"
      ],
      "application/vnd.jupyter.widget-view+json": {
       "version_major": 2,
       "version_minor": 0,
       "model_id": "cee2a82c1b5148ff8b32a224f841f988"
      }
     },
     "metadata": {}
    }
   ],
   "metadata": {
    "execution": {
     "iopub.execute_input": "2021-08-11T15:22:20.377776Z",
     "iopub.status.busy": "2021-08-11T15:22:20.377110Z",
     "iopub.status.idle": "2021-08-11T15:22:20.600250Z",
     "shell.execute_reply": "2021-08-11T15:22:20.599193Z",
     "shell.execute_reply.started": "2021-08-11T15:22:20.377736Z"
    }
   }
  },
  {
   "cell_type": "code",
   "execution_count": null,
   "source": [],
   "outputs": [],
   "metadata": {}
  }
 ],
 "metadata": {
  "interpreter": {
   "hash": "23af958078165d7e427e51220d8520c57e31b15b35906dd75cc96812597c3524"
  },
  "kernelspec": {
   "display_name": "Python 3",
   "language": "python",
   "name": "python3"
  },
  "language_info": {
   "codemirror_mode": {
    "name": "ipython",
    "version": 3
   },
   "file_extension": ".py",
   "mimetype": "text/x-python",
   "name": "python",
   "nbconvert_exporter": "python",
   "pygments_lexer": "ipython3",
   "version": "3.7.6"
  }
 },
 "nbformat": 4,
 "nbformat_minor": 4
}