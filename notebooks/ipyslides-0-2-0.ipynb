{
 "cells": [
  {
   "cell_type": "code",
   "execution_count": 14,
   "metadata": {
    "execution": {
     "iopub.execute_input": "2021-08-11T15:22:16.400380Z",
     "iopub.status.busy": "2021-08-11T15:22:16.399924Z",
     "iopub.status.idle": "2021-08-11T15:22:16.923508Z",
     "shell.execute_reply": "2021-08-11T15:22:16.922532Z",
     "shell.execute_reply.started": "2021-08-11T15:22:16.400338Z"
    }
   },
   "outputs": [],
   "source": [
    "import ipyslides as isd "
   ]
  },
  {
   "cell_type": "code",
   "execution_count": 15,
   "metadata": {
    "execution": {
     "iopub.execute_input": "2021-08-11T15:22:17.175789Z",
     "iopub.status.busy": "2021-08-11T15:22:17.175377Z",
     "iopub.status.idle": "2021-08-11T15:22:17.183042Z",
     "shell.execute_reply": "2021-08-11T15:22:17.181912Z",
     "shell.execute_reply.started": "2021-08-11T15:22:17.175753Z"
    }
   },
   "outputs": [],
   "source": [
    "from IPython.display import display, Markdown, Latex\n",
    "from ipyslides import load_magics, convert2slides, write_title\n",
    "from ipyslides.utils import write,plt2html,print_context\n",
    "\n",
    "# Command below registers all the ipyslides magics that are used in this file\n",
    "load_magics()\n",
    "# Set this to True for Slides output\n",
    "convert2slides(True) #Set this to True for Slides output\n",
    "\n",
    "\n",
    "write_title(\"<div style='width:10px;height:100%;background:red;'></div>\",\n",
    "\"\"\"# Interactive Slides  \n",
    "<em> Author: Abdul Saboor</em>\n",
    "\n",
    "- Edit and test cells in `convert2slides(False)` mode.\n",
    "- Run cells in `convert2slides(True)` mode from top to bottom. \n",
    "- `%%slide integer` on cell top auto picks slide or you can use `ipysildes.insert(slide_number)`\n",
    "- ipyslides.insert_after(slide_number,*objs) generates slides dynamically handled by function `display_item`.\n",
    "\n",
    "```python\n",
    "import ipyslides as isd \n",
    "isd.initilize() #This will create a title page and parameters in same cell\n",
    "isd.write_title() #create a rich content multicols title page.\n",
    "isd.insert(1) #This will create a slide in same cell where you run it \n",
    "isd.insert_after(1,*objs) #This will create as many slides after the slide number 1 as length(objs)\n",
    "isd.build() #This will build the presentation cell. After this go top and set `convert2slides(True)` and run all below.\n",
    "```\n",
    "\n",
    "> Restart Kernel if you make mistake in slide numbers to avoid hidden state problem.\n",
    "> For JupyterLab >=3, do `pip install sidecar`. \n",
    "\"\"\",width_percents = [5,95])\n"
   ]
  },
  {
   "cell_type": "code",
   "execution_count": 16,
   "metadata": {
    "execution": {
     "iopub.execute_input": "2021-08-11T15:22:17.807747Z",
     "iopub.status.busy": "2021-08-11T15:22:17.807335Z",
     "iopub.status.idle": "2021-08-11T15:22:18.076474Z",
     "shell.execute_reply": "2021-08-11T15:22:18.075220Z",
     "shell.execute_reply.started": "2021-08-11T15:22:17.807716Z"
    }
   },
   "outputs": [],
   "source": [
    "%%slide 1\n",
    "import numpy as np, matplotlib.pyplot as plt\n",
    "x = np.linspace(0,2*np.pi)\n",
    "with plt.style.context('ggplot'):\n",
    "    fig, ax = plt.subplots(figsize=(3.4,2.6))\n",
    "    _ = ax.plot(x,np.cos(x))\n",
    "write('## Plotting and displaying code')\n",
    "write(plt2html(),isd.get_cell_code())"
   ]
  },
  {
   "cell_type": "code",
   "execution_count": 77,
   "metadata": {},
   "outputs": [],
   "source": [
    "from IPython.display import Audio, clear_output\n",
    "import numpy as np,ipywidgets as ipw\n",
    "f1, f2 = [ipw.IntSlider(description=f'f{i+1}',min=200,max=1500,step=1,continuous_update=False) for i in range(2)]\n",
    "counter = 0\n",
    "def beat_freq(change):\n",
    "    global counter\n",
    "    counter  = counter + 1\n",
    "    if counter % 5 == 0:\n",
    "        clear_output()\n",
    "        write('#### Play with sliders to change beats')\n",
    "        display(f1,f2)\n",
    "    \n",
    "    times = np.linspace(0,3,8000*3)\n",
    "    signal = np.sin(2*np.pi*f1.value*times) + np.sin(2*np.pi*f2.value*times)\n",
    "    aud = Audio(signal,rate=8000)\n",
    "    aud.autoplay = True\n",
    "    write(f'f1 = {f1.value},  f2 = {f2.value}')\n",
    "    display(aud)\n",
    "    \n",
    "\n",
    "f1.observe(beat_freq,'value')\n",
    "f2.observe(beat_freq,'value')\n",
    "\n",
    "mc2 = isd.MultiCols()\n",
    "with mc2.header:\n",
    "    write('## Audio Input')\n",
    "with mc2.c1:\n",
    "    write('#### Play with sliders to change beats')\n",
    "    display(f1,f2)\n",
    "\n",
    "with mc2.c2:\n",
    "    write(isd.get_cell_code())\n",
    "    \n",
    "isd.insert_after(1,mc2)"
   ]
  },
  {
   "cell_type": "code",
   "execution_count": 78,
   "metadata": {},
   "outputs": [],
   "source": [
    "%%slide 2 \n",
    "from IPython.display import YouTubeVideo\n",
    "display(YouTubeVideo('Z3iR551KgpI'))\n",
    "write(isd.get_cell_code())"
   ]
  },
  {
   "cell_type": "code",
   "execution_count": 79,
   "metadata": {
    "execution": {
     "iopub.execute_input": "2021-08-11T15:22:19.567799Z",
     "iopub.status.busy": "2021-08-11T15:22:19.567333Z",
     "iopub.status.idle": "2021-08-11T15:22:19.654991Z",
     "shell.execute_reply": "2021-08-11T15:22:19.653945Z",
     "shell.execute_reply.started": "2021-08-11T15:22:19.567756Z"
    }
   },
   "outputs": [],
   "source": [
    "mc = isd.MultiCols()\n",
    "with mc.header:\n",
    "    write('## Header')\n",
    "with mc.footer:\n",
    "    write('## Footer')\n",
    "with mc.c1:\n",
    "    write('Oh this is column 1')\n",
    "with mc.c2:\n",
    "    write('Yes this is column 2')\n",
    "\n",
    "isd.insert_after(2, mc,*range(20)) # I have modifies `display_item` to handle int, see below"
   ]
  },
  {
   "cell_type": "code",
   "execution_count": 80,
   "metadata": {
    "execution": {
     "iopub.execute_input": "2021-08-11T15:22:20.377776Z",
     "iopub.status.busy": "2021-08-11T15:22:20.377110Z",
     "iopub.status.idle": "2021-08-11T15:22:20.600250Z",
     "shell.execute_reply": "2021-08-11T15:22:20.599193Z",
     "shell.execute_reply.started": "2021-08-11T15:22:20.377736Z"
    }
   },
   "outputs": [
    {
     "data": {
      "application/vnd.jupyter.widget-view+json": {
       "model_id": "5aa9ce0736cb4a7a9ce383294bc78d36",
       "version_major": 2,
       "version_minor": 0
      },
      "text/plain": [
       "VBox(children=(HTML(value='<style>\\n            .SlidesWrapper .textfonts { align-items: center;}\\n           …"
      ]
     },
     "metadata": {},
     "output_type": "display_data"
    }
   ],
   "source": [
    "import numpy as np, matplotlib.pyplot as plt\n",
    "# Only this cell should show output. For JupyterLab >=3, pip install sidecar\n",
    "# ------ Slides End Here -------- \n",
    "\n",
    "from ipyslides.core import collect_slides, LiveSlides\n",
    "\n",
    "slides_iterable = collect_slides() #Get all slides content in order\n",
    "\n",
    "# Edit this function to act on all dynmaically generated slides\n",
    "def display_item(item):\n",
    "    if isinstance(item,(str,dict,list,tuple,float)):\n",
    "        write(f'### Given {type(item)}: {item}')\n",
    "    if isinstance(item,int):\n",
    "        fig, ax = plt.subplots()\n",
    "        x = np.linspace(0,item+1,50+10*item)\n",
    "        ax.plot(x,np.sin(x));\n",
    "        ax.set_axis_off()\n",
    "        write(f'### This is Slide {item+3}\\n and we are plotting\\n $$f(x)=\\sin(x)$$',plt2html())\n",
    "    else:\n",
    "        display(item) # You will get idea what is it and modify this function to handle it.\n",
    "    \n",
    "ls = LiveSlides(func=display_item,iterable=slides_iterable,accent_color='olive')\n",
    "ls.set_footer('Autho: Abdul Saboor')\n",
    "ls.setting.theme_dd.value = 'Light'\n",
    "ls.box.layout.width = '90vw'\n",
    "ls.show()"
   ]
  },
  {
   "cell_type": "code",
   "execution_count": null,
   "metadata": {},
   "outputs": [],
   "source": []
  }
 ],
 "metadata": {
  "interpreter": {
   "hash": "23af958078165d7e427e51220d8520c57e31b15b35906dd75cc96812597c3524"
  },
  "kernelspec": {
   "display_name": "Python 3",
   "language": "python",
   "name": "python3"
  },
  "language_info": {
   "codemirror_mode": {
    "name": "ipython",
    "version": 3
   },
   "file_extension": ".py",
   "mimetype": "text/x-python",
   "name": "python",
   "nbconvert_exporter": "python",
   "pygments_lexer": "ipython3",
   "version": "3.7.6"
  }
 },
 "nbformat": 4,
 "nbformat_minor": 4
}
