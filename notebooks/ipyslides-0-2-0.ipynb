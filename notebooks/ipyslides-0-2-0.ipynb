{
 "cells": [
  {
   "cell_type": "code",
   "execution_count": 1,
   "metadata": {
    "tags": []
   },
   "outputs": [],
   "source": [
    "import ipyslides as isd \r\n",
    "import ipywidgets as ipw"
   ]
  },
  {
   "cell_type": "code",
   "execution_count": 2,
   "metadata": {},
   "outputs": [],
   "source": [
    "from IPython.display import display, Markdown, HTML, Latex, YouTubeVideo\n",
    "from ipyslides import load_magics, convert2slides, write_title\n",
    "from ipyslides.utils import write,plt2html,print_context,slide\n",
    "\n",
    "# Command below registers all the ipyslides magics that are used in this file\n",
    "load_magics()\n",
    "# Set this to True for Slides output\n",
    "convert2slides(True) #Set this to True for Slides output\n",
    "\n",
    "\n",
    "write_title(\"<div style='width:10px;height:100%;background:red;'></div>\",\n",
    "\"\"\"# Interactive Slides  انٹریکٹو سلائیڈز\n",
    "<em> Author: Abdul Saboor</em>\n",
    "\n",
    "- Edit and test cells in `convert2slides(False)` mode.\n",
    "- Run cells in `convert2slides(True)` mode from top to bottom. \n",
    "- `%%slide integer` on cell top auto picks slide or you can use `ipysildes.insert(slide_number)`\n",
    "- ipyslides.insert_after(slide_number,*objs) generates slides dynamically handled by function `display_item`.\n",
    "\n",
    "```python\n",
    "import ipyslides as isd \n",
    "isd.initilize() #This will create a title page and parameters in same cell\n",
    "isd.write_title() #create a rich content multicols title page.\n",
    "isd.insert(1) #This will create a slide in same cell where you run it \n",
    "isd.insert_after(1,*objs) #This will create as many slides after the slide number 1 as length(objs)\n",
    "isd.build() #This will build the presentation cell. After this go top and set `convert2slides(True)` and run all below.\n",
    "```\n",
    "\n",
    "> Restart Kernel if you make mistake in slide numbers to avoid hidden state problem.\n",
    "> For JupyterLab >=3, do `pip install sidecar`. \n",
    "\"\"\",width_percents = [5,95])\n"
   ]
  },
  {
   "cell_type": "code",
   "execution_count": 3,
   "metadata": {},
   "outputs": [],
   "source": [
    "%%slide 1\n",
    "import numpy as np, matplotlib.pyplot as plt\n",
    "plt.style.use('ggplot')\n",
    "x = np.linspace(0,2*np.pi)\n",
    "with plt.style.context('ggplot'):\n",
    "    fig, ax = plt.subplots(figsize=(3.4,2.6))\n",
    "    _ = ax.plot(x,np.cos(x))\n",
    "write('## Plotting and displaying code')\n",
    "write(plt2html(),isd.get_cell_code())"
   ]
  },
  {
   "cell_type": "code",
   "execution_count": 4,
   "metadata": {},
   "outputs": [],
   "source": [
    "import numpy as np, matplotlib.pyplot as plt\n",
    "mc = isd.MultiCols()\n",
    "with mc.header:\n",
    "    write('### Listening Somthing?')\n",
    "    display(HTML('<iframe width=\"100%\" height=\"166\" scrolling=\"no\" frameborder=\"no\" allow=\"autoplay\" src=\"https://w.soundcloud.com/player/?url=https%3A//api.soundcloud.com/tracks/198928615&color=%23ff5500&auto_play=false&hide_related=false&show_comments=true&show_user=true&show_reposts=false&show_teaser=true\"></iframe><div style=\"font-size: 10px; color: #cccccc;line-break: anywhere;word-break: normal;overflow: hidden;white-space: nowrap;text-overflow: ellipsis; font-family: Interstate,Lucida Grande,Lucida Sans Unicode,Lucida Sans,Garuda,Verdana,Tahoma,sans-serif;font-weight: 100;\"><a href=\"https://soundcloud.com/nocopyrightsounds\" title=\"NCS\" target=\"_blank\" style=\"color: #cccccc; text-decoration: none;\">NCS</a> · <a href=\"https://soundcloud.com/nocopyrightsounds/alan-walker-force-ncs-release\" title=\"Alan Walker - Force [NCS Release]\" target=\"_blank\" style=\"color: #cccccc; text-decoration: none;\">Alan Walker - Force [NCS Release]</a></div>'))\n",
    "with mc.footer:\n",
    "    write(isd.get_cell_code())\n",
    "with mc.c1:\n",
    "    write('### Embedding Tweets')\n",
    "    display(HTML('<blockquote class=\"twitter-tweet\"><p lang=\"und\" dir=\"ltr\"><a href=\"https://twitter.com/hashtag/pivotpy?src=hash&amp;ref_src=twsrc%5Etfw\">#pivotpy</a> <a href=\"https://twitter.com/hashtag/DFT?src=hash&amp;ref_src=twsrc%5Etfw\">#DFT</a> <a href=\"https://t.co/JNApUy6xSJ\">https://t.co/JNApUy6xSJ</a> <a href=\"https://t.co/Q6okNiKI3W\">pic.twitter.com/Q6okNiKI3W</a></p>&mdash; Abdul Saboor عبدالصبور (@mass_asaboor) <a href=\"https://twitter.com/mass_asaboor/status/1268227838106390529?ref_src=twsrc%5Etfw\">June 3, 2020</a></blockquote> <script async src=\"https://platform.twitter.com/widgets.js\" charset=\"utf-8\"></script>'))\n",
    "with mc.c2:\n",
    "    write('### Watching Youtube Video?')\n",
    "    display(YouTubeVideo('Z3iR551KgpI',width='100%',height='266px'))\n",
    "    \n",
    "def func(item):\n",
    "    if isinstance(item,int):\n",
    "        fig, ax = plt.subplots()\n",
    "        x = np.linspace(0,item+1,50+10*item)\n",
    "        ax.plot(x,np.sin(x));\n",
    "        ax.set_title(f'$f(x)=\\sin(x)$, 0 < x < {item+1}')\n",
    "        ax.set_axis_off()\n",
    "        write(f'### This is Slide {item+5}\\n and we are plotting dynamically',plt2html(),width_percents=[30,70])\n",
    "    else:\n",
    "        item.show()\n",
    "            \n",
    "isd.insert_after(3, mc,*range(10),func=func) # I have modifies `func` to handle int and others above\n",
    "\n"
   ]
  },
  {
   "cell_type": "code",
   "execution_count": 5,
   "metadata": {},
   "outputs": [],
   "source": [
    "for i in range(5):\n",
    "    with slide(i+100):\n",
    "        x = np.linspace(0,i+1,50+10*i)\n",
    "        _ = plt.plot(x,np.sin(x))\n",
    "        write(plt2html(),f'### I was saved but created from one cell at number {i+1} with 5 other slides\\n{isd.get_cell_code()}')\n",
    "        "
   ]
  },
  {
   "cell_type": "code",
   "execution_count": 6,
   "metadata": {
    "tags": []
   },
   "outputs": [],
   "source": [
    "%%slide 2\r\n",
    "import pandas as pd \r\n",
    "df = pd.read_csv('https://raw.githubusercontent.com/mwaskom/seaborn-data/master/iris.csv')\r\n",
    "write('''## Data Tables\r\n",
    "|h1|h2|h3|\r\n",
    "|---|---|---|\r\n",
    "|d1|d2|d3|\r\n",
    "|r1|r2|r3|\r\n",
    "''',isd.get_cell_code())\r\n",
    "write(f'## Pandas DataFrame of Iris Dataset\\n{df.to_html()}')"
   ]
  },
  {
   "cell_type": "code",
   "execution_count": 7,
   "metadata": {
    "tags": []
   },
   "outputs": [],
   "source": [
    "%%slide 3\r\n",
    "write('## All IPython widgets support\\n`ipywidgets`, `bqplot`,`ipyvolume` , `plotly Figurewidget` etc.')\r\n",
    "display(ipw.IntSlider(),ipw.IntProgress(value=50),ipw.Button(description='Click Me, I do nothing'))"
   ]
  },
  {
   "cell_type": "code",
   "execution_count": 8,
   "metadata": {},
   "outputs": [],
   "source": [
    "# Only this cell should show output. For JupyterLab >=3, pip install sidecar for fullscreen access\n",
    "# You can also double click on output and select `Create New View for Output` that will let you enable fullscreen.\n",
    "# ------ Slides End Here -------- \n",
    "from ipyslides.core import  LiveSlides \n",
    "ls = LiveSlides()\n",
    "ls.set_footer('Author: Abdul Saboor')\n",
    "ls.show()"
   ]
  },
  {
   "cell_type": "code",
   "execution_count": null,
   "metadata": {},
   "outputs": [],
   "source": []
  }
 ],
 "metadata": {
  "interpreter": {
   "hash": "23af958078165d7e427e51220d8520c57e31b15b35906dd75cc96812597c3524"
  },
  "kernelspec": {
   "display_name": "Python 3",
   "language": "python",
   "name": "python3"
  },
  "language_info": {
   "codemirror_mode": {
    "name": "ipython",
    "version": 3
   },
   "file_extension": ".py",
   "mimetype": "text/x-python",
   "name": "python",
   "nbconvert_exporter": "python",
   "pygments_lexer": "ipython3",
   "version": "3.7.6"
  }
 },
 "nbformat": 4,
 "nbformat_minor": 4
}
