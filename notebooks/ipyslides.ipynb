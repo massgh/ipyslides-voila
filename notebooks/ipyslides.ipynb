{
 "cells": [
  {
   "cell_type": "markdown",
   "metadata": {},
   "source": [
    "## Run a demo of `ipyslides`"
   ]
  },
  {
   "cell_type": "code",
   "execution_count": 13,
   "metadata": {},
   "outputs": [],
   "source": [
    "import ipyslides as isd \n",
    "slides = isd.LiveSlides()\n",
    "slides.pre_compute_display(False) # This make sure next line works on subsequent runs of cell\n",
    "slides.demo().show() # show before computing full display, otherwise it fails\n",
    "slides.pre_compute_display(True) #Laod all for faster switch\n",
    "slides.settings.set_layout(content_width='70%')"
   ]
  }
 ],
 "metadata": {
  "interpreter": {
   "hash": "6fa3abec1038263c13e4f9228a7e4914faa4cdda042790cfd8fcc93cfed2bbce"
  },
  "kernelspec": {
   "display_name": "Python 3",
   "language": "python",
   "name": "python3"
  },
  "language_info": {
   "codemirror_mode": {
    "name": "ipython",
    "version": 3
   },
   "file_extension": ".py",
   "mimetype": "text/x-python",
   "name": "python",
   "nbconvert_exporter": "python",
   "pygments_lexer": "ipython3",
   "version": "3.7.6"
  }
 },
 "nbformat": 4,
 "nbformat_minor": 4
}
