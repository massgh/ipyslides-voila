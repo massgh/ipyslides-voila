{
 "cells": [
  {
   "cell_type": "code",
   "execution_count": 1,
   "metadata": {},
   "outputs": [],
   "source": [
    "import ipyslides as isd \n",
    "import ipywidgets as ipw\n",
    "from IPython.display import display, Markdown, HTML, YouTubeVideo\n",
    "from ipyslides.utils import write, plt2html, print_context, fmt2cols\n",
    "from ipyslides.core import  LiveSlides, display_cell_code, get_cell_code\n",
    "ls = LiveSlides() # This registers %%slide and %%title magics as bonus\n",
    "\n",
    "# Note: For LiveSlides('A'), use %%slideA, %%titleA, LiveSlides('B'), use %%slideB, %%titleB\n",
    "# so that they do not overwite each other's slides.\n",
    "\n",
    "ls.convert2slides(True) #Set this to True for Slides output\n",
    "ls.set_footer('Author: Abdul Saboor')\n",
    "ls.align8center(True) # Set False to align top-left corner\n",
    "\n",
    "with ls.title():\n",
    "    write('# Title Page')\n",
    "    \n",
    "for i in range(1,5):\n",
    "    with ls.slide(i):\n",
    "        write(f'## Slide {i} Title')\n",
    "\n",
    "ls.show() #Use this only once in case you use Voila. \n",
    "#Create slides with %%slide, insert_after now, will be updated on cell run.\n"
   ]
  },
  {
   "cell_type": "code",
   "execution_count": 2,
   "metadata": {},
   "outputs": [],
   "source": [
    "%%slide 1\r\n",
    "import numpy as np, matplotlib.pyplot as plt\r\n",
    "plt.style.use('ggplot')\r\n",
    "x = np.linspace(0,2*np.pi)\r\n",
    "with plt.style.context('ggplot'):\r\n",
    "    fig, ax = plt.subplots(figsize=(3.4,2.6))\r\n",
    "    _ = ax.plot(x,np.cos(x))\r\n",
    "write('## Plotting and displaying code')\r\n",
    "write(plt2html(),isd.get_cell_code())"
   ]
  },
  {
   "cell_type": "code",
   "execution_count": 3,
   "metadata": {},
   "outputs": [],
   "source": [
    "with ls.slide(2):\n",
    "    write('''### Listening Somthing?\\n<iframe width=\"100%\" height=\"166\" scrolling=\"no\" frameborder=\"no\" allow=\"autoplay\" src=\"https://w.soundcloud.com/player/?url=https%3A//api.soundcloud.com/tracks/198928615&color=%23ff5500&auto_play=false&hide_related=false&show_comments=true&show_user=true&show_reposts=false&show_teaser=true\"></iframe><div style=\"font-size: 10px; color: #cccccc;line-break: anywhere;word-break: normal;overflow: hidden;white-space: nowrap;text-overflow: ellipsis; font-family: Interstate,Lucida Grande,Lucida Sans Unicode,Lucida Sans,Garuda,Verdana,Tahoma,sans-serif;font-weight: 100;\"><a href=\"https://soundcloud.com/nocopyrightsounds\" title=\"NCS\" target=\"_blank\" style=\"color: #cccccc; text-decoration: none;\">NCS</a> · <a href=\"https://soundcloud.com/nocopyrightsounds/alan-walker-force-ncs-release\" title=\"Alan Walker - Force [NCS Release]\" target=\"_blank\" style=\"color: #cccccc; text-decoration: none;\">Alan Walker - Force [NCS Release]</a></div>\n",
    "    ''')\n",
    "    write('''### Embedding Tweets\\n<blockquote class=\"twitter-tweet\"><p lang=\"und\" dir=\"ltr\"><a href=\"https://twitter.com/hashtag/pivotpy?src=hash&amp;ref_src=twsrc%5Etfw\">#pivotpy</a> <a href=\"https://twitter.com/hashtag/DFT?src=hash&amp;ref_src=twsrc%5Etfw\">#DFT</a> <a href=\"https://t.co/JNApUy6xSJ\">https://t.co/JNApUy6xSJ</a> <a href=\"https://t.co/Q6okNiKI3W\">pic.twitter.com/Q6okNiKI3W</a></p>&mdash; Abdul Saboor عبدالصبور (@mass_asaboor) <a href=\"https://twitter.com/mass_asaboor/status/1268227838106390529?ref_src=twsrc%5Etfw\">June 3, 2020</a></blockquote> <script async src=\"https://platform.twitter.com/widgets.js\" charset=\"utf-8\"></script>\n",
    "    ''',\n",
    "    f'''### Watching Youtube Video?\\n{YouTubeVideo('Z3iR551KgpI',width='100%',height='266px')._repr_html_().strip()}\n",
    "    ''')\n",
    "    write(isd.get_cell_code())\n",
    "def func(item):\n",
    "    if isinstance(item,int):\n",
    "        fig, ax = plt.subplots()\n",
    "        x = np.linspace(0,item+1,50+10*item)\n",
    "        ax.plot(x,np.sin(x));\n",
    "        ax.set_title(f'$f(x)=\\sin(x)$, 0 < x < {item+1}')\n",
    "        ax.set_axis_off()\n",
    "        write(f'### This is Slide {item+5}\\n and we are plotting dynamically',plt2html(),width_percents=[30,70])\n",
    "    else:\n",
    "        display(item)\n",
    "            \n",
    "ls.insert_after(3,*range(10),func=func) # I have modifies `func` to handle int and others above\n",
    "\n"
   ]
  },
  {
   "cell_type": "code",
   "execution_count": 4,
   "metadata": {},
   "outputs": [],
   "source": [
    "for i in range(5):\n",
    "    with ls.slide(i+100):\n",
    "        write(f'## with slide {i+1}')\n",
    "        plt.style.use('ggplot')\n",
    "        x = np.linspace(0,i+1,50+10*i)\n",
    "        _ = plt.plot(x,np.sin(x))\n",
    "        plt.gca().set_axis_off()\n",
    "        write(plt2html(),f'### I was saved but created from one cell at number {i+1} with 5 other slides\\n{isd.get_cell_code()}')\n",
    "        "
   ]
  },
  {
   "cell_type": "code",
   "execution_count": 5,
   "metadata": {},
   "outputs": [],
   "source": [
    "%%slide 3\n",
    "import pandas as pd \n",
    "df = pd.read_csv('https://raw.githubusercontent.com/mwaskom/seaborn-data/master/iris.csv')\n",
    "write('''## Data Tables\n",
    "|h1|h2|h3|\n",
    "|---|---|---|\n",
    "|d1|d2|d3|\n",
    "|r1|r2|r3|\n",
    "|f1|f2|f3|\n",
    "''',isd.get_cell_code())\n",
    "write(f'## Pandas DataFrame of Iris Dataset\\n{df.to_html()}')"
   ]
  },
  {
   "cell_type": "code",
   "execution_count": 6,
   "metadata": {},
   "outputs": [],
   "source": [
    "%%slide 4\n",
    "write('## All IPython widgets support\\n`ipywidgets`, `bqplot`,`ipyvolume` , `plotly Figurewidget` etc.')\n",
    "display(ipw.IntSlider(),ipw.IntProgress(value=50),ipw.Button(description='Click Me, I do nothing'))\n",
    "\n"
   ]
  },
  {
   "cell_type": "code",
   "execution_count": null,
   "metadata": {},
   "outputs": [],
   "source": []
  }
 ],
 "metadata": {
  "interpreter": {
   "hash": "6fa3abec1038263c13e4f9228a7e4914faa4cdda042790cfd8fcc93cfed2bbce"
  },
  "kernelspec": {
   "display_name": "Python 3",
   "language": "python",
   "name": "python3"
  },
  "language_info": {
   "codemirror_mode": {
    "name": "ipython",
    "version": 3
   },
   "file_extension": ".py",
   "mimetype": "text/x-python",
   "name": "python",
   "nbconvert_exporter": "python",
   "pygments_lexer": "ipython3",
   "version": "3.7.6"
  }
 },
 "nbformat": 4,
 "nbformat_minor": 4
}
