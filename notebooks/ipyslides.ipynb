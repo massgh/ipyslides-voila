{
 "cells": [
  {
   "cell_type": "markdown",
   "metadata": {},
   "source": [
    "## First run a demo of `ipyslides` \n",
    "You will be actually doing:\n",
    "```python\n",
    "import ipyslides as isd \n",
    "isd.LiveSlides()\n",
    "```\n",
    "This will giude you to run everything you need. But first see a demo which is from a python script"
   ]
  },
  {
   "cell_type": "code",
   "execution_count": 13,
   "metadata": {},
   "outputs": [],
   "source": [
    "import ipyslides as isd \n",
    "slides = isd.LiveSlides().demo()\n",
    "slides.pre_compute_display(True) #Laod all for faster switch\n",
    "slides.settings.set_layout(content_width='70%')\n",
    "slides"
   ]
  },
  {
   "cell_type": "markdown",
   "metadata": {},
   "source": [
    "## Running cell below will change content of slide 2\n",
    "First see what was on slide 2 and then run below."
   ]
  },
  {
   "cell_type": "code",
   "execution_count": 14,
   "metadata": {},
   "outputs": [],
   "source": [
    "%%slide 2\n",
    "import pandas as pd \n",
    "df = pd.read_csv('https://raw.githubusercontent.com/mwaskom/seaborn-data/master/iris.csv')\n",
    "write('''## Data Tables\n",
    "|h1|h2|h3|\n",
    "|---|---|---|\n",
    "|d1|d2|d3|\n",
    "|r1|r2|r3|\n",
    "|f1|f2|f3|\n",
    "''')\n",
    "write(f'## Pandas DataFrame of Iris Dataset\\n{df.to_html()}')\n",
    "\n"
   ]
  },
  {
   "cell_type": "code",
   "execution_count": null,
   "metadata": {},
   "outputs": [],
   "source": []
  }
 ],
 "metadata": {
  "interpreter": {
   "hash": "6fa3abec1038263c13e4f9228a7e4914faa4cdda042790cfd8fcc93cfed2bbce"
  },
  "kernelspec": {
   "display_name": "Python 3",
   "language": "python",
   "name": "python3"
  },
  "language_info": {
   "codemirror_mode": {
    "name": "ipython",
    "version": 3
   },
   "file_extension": ".py",
   "mimetype": "text/x-python",
   "name": "python",
   "nbconvert_exporter": "python",
   "pygments_lexer": "ipython3",
   "version": "3.7.6"
  }
 },
 "nbformat": 4,
 "nbformat_minor": 4
}
